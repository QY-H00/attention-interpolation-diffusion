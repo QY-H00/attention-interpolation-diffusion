{
 "cells": [
  {
   "cell_type": "code",
   "execution_count": 12,
   "metadata": {},
   "outputs": [
    {
     "data": {
      "application/vnd.jupyter.widget-view+json": {
       "model_id": "0b62cb32a952414dab43400db5027541",
       "version_major": 2,
       "version_minor": 0
      },
      "text/plain": [
       "Loading pipeline components...:   0%|          | 0/7 [00:00<?, ?it/s]"
      ]
     },
     "metadata": {},
     "output_type": "display_data"
    }
   ],
   "source": [
    "import os\n",
    "\n",
    "os.environ[\"CUDA_VISIBLE_DEVICES\"] = \"0\"\n",
    "import torch\n",
    "\n",
    "from pipeline_interpolated_sdxl import InterpolationStableDiffusionXLPipeline\n",
    "from prior import generate_beta_tensor\n",
    "from utils import show_images_horizontally\n",
    "\n",
    "xl_pipe = InterpolationStableDiffusionXLPipeline.from_pretrained(\n",
    "    \"stabilityai/stable-diffusion-xl-base-1.0\", torch_dtype=torch.float16\n",
    ")\n",
    "generator = torch.cuda.manual_seed(1002)\n",
    "dtype = torch.float16\n",
    "xl_pipe.to(\"cuda\", dtype=dtype)\n",
    "size = xl_pipe.default_sample_size"
   ]
  },
  {
   "cell_type": "code",
   "execution_count": 13,
   "metadata": {},
   "outputs": [],
   "source": [
    "latent_start = torch.randn((1, 4, size, size,), device=\"cuda\", dtype=dtype, generator=generator)\n",
    "latent_end = torch.randn((1, 4, size, size,), device=\"cuda\", dtype=dtype, generator=generator)"
   ]
  },
  {
   "cell_type": "code",
   "execution_count": null,
   "metadata": {},
   "outputs": [],
   "source": [
    "prompt_a = \"anime artwork a Pikachu sitting on the grass, dramatic, anime style, key visual, vibrant, studio anime, highly detailed\"\n",
    "prompt_b = \"anime artwork a beautiful girl, dramatic, anime style, key visual, vibrant, studio anime, highly detailed\"\n",
    "negative_prompt = \"photo, photorealistic, realism, ugly, messy background\"\n",
    "interpolation_size = 7\n",
    "num_inference_steps = 50\n",
    "warmup_ratio = 0.5\n",
    "sequence_coefficients = generate_beta_tensor(interpolation_size, alpha=10, beta=6).to(dtype=torch.float16, device=\"cuda\")\n",
    "sequence_coefficients = sequence_coefficients[1:-1]\n",
    "print(sequence_coefficients)\n",
    "results = []\n",
    "for i in range(interpolation_size - 2):\n",
    "    images = xl_pipe.interpolate_single(sequence_coefficients[i], prompt_start=prompt_a, prompt_end=prompt_b, negative_prompt=negative_prompt, latent_start=latent_start, latent_end=latent_end, early='fused_outer', num_inference_steps=num_inference_steps, output_type=\"np\")\n",
    "    if i == 0:\n",
    "        results.append(images.images[0])\n",
    "    results.append(images.images[1])\n",
    "results.append(images.images[2])\n",
    "show_images_horizontally(results, interact=True)"
   ]
  },
  {
   "cell_type": "code",
   "execution_count": null,
   "metadata": {},
   "outputs": [],
   "source": [
    "prompt_a = \"Concept art of a beautiful sea of dreamy flowers, highly detailed, key visual\"\n",
    "prompt_b = \"Concept art of an outworn and damaged black Gundam (from Mobile Suit Gundam) lowering his head, highly detailed, key visual\"\n",
    "negative_prompt = \"lowres, bad anatomy, worst quality, low quality, text, photo, photorealistic, realism\"\n",
    "prompt_guidance = \"Concept art of an outworn and damaged black Gundam (from Mobile Suit Gundam) falling on its knees, surrounded by a beautiful sea of dreamy flowers, peaceful\"\n",
    "interpolation_size = 7\n",
    "num_inference_steps = 50\n",
    "warmup_ratio = 0.3\n",
    "sequence_coefficients = generate_beta_tensor(interpolation_size).to(dtype=torch.float16, device=\"cuda\")\n",
    "sequence_coefficients = sequence_coefficients[1:-1]\n",
    "print(sequence_coefficients)\n",
    "results = []\n",
    "for i in range(interpolation_size - 2):\n",
    "    images = xl_pipe.interpolate_single(sequence_coefficients[i], prompt_start=prompt_a, prompt_end=prompt_b, prompt_guidance=prompt_guidance, negative_prompt=negative_prompt, latent_start=latent_start, latent_end=latent_end, early='fused_outer', num_inference_steps=num_inference_steps, output_type=\"np\", warmup_ratio=warmup_ratio)\n",
    "    if i == 0:\n",
    "        results.append(images.images[0])\n",
    "    results.append(images.images[1])\n",
    "results.append(images.images[2])\n",
    "show_images_horizontally(results, interact=True)"
   ]
  },
  {
   "cell_type": "code",
   "execution_count": null,
   "metadata": {},
   "outputs": [],
   "source": [
    "prompt_b = \"cinematic film still, stormtrooper taking aim. shallow depth of field, vignette, highly detailed, high budget Hollywood movie, bokeh, cinemascope, moody, epic, gorgeous, film grain, grainyCopied!\"\n",
    "prompt_a = \"vaporwave synthwave style Los Angeles street. cyberpunk, neon, vibes, stunningly beautiful, crisp, detailed, sleek, ultramodern, high contrast, cinematic composition\"\n",
    "negative_prompt = \"illustration, painting, crayon, graphite, abstract, glitch, deformed, mutated, ugly, disfigured\"\n",
    "interpolation_size = 7\n",
    "num_inference_steps = 50\n",
    "warmup_ratio = 0.5\n",
    "sequence_coefficients = generate_beta_tensor(interpolation_size, alpha=530, beta=602).to(dtype=torch.float16, device=\"cuda\")\n",
    "sequence_coefficients = sequence_coefficients[1:-1]\n",
    "print(sequence_coefficients)\n",
    "results = []\n",
    "for i in range(interpolation_size - 2):\n",
    "    images = xl_pipe.interpolate_single(sequence_coefficients[i], prompt_start=prompt_a, prompt_end=prompt_b, negative_prompt=negative_prompt, latent_start=latent_start, latent_end=latent_end, early='fused_outer', num_inference_steps=num_inference_steps, output_type=\"np\")\n",
    "    if i == 0:\n",
    "        results.append(images.images[0])\n",
    "    results.append(images.images[1])\n",
    "results.append(images.images[2])\n",
    "show_images_horizontally(results, interact=True)"
   ]
  },
  {
   "cell_type": "code",
   "execution_count": null,
   "metadata": {},
   "outputs": [],
   "source": [
    "prompt_a = \"Design a colorful Chinese demon, embodies the intersection of malevolence and mystique, intricate horns, ethereal scales, and eyes aflame with otherworldly wisdom. Uncover its origins within ancient Chinese folklore or its place in the celestial hierarchy. Explore its motivations, whether driven by revenge, power, or redemption. cultural nuances, complex figure, rich tapestry of Chinese mythology\"\n",
    "prompt_b = \"Closeup, Dark, bosstyle, amazing quality, masterpiece, best quality, hyper detailed, ultra detailed, UHD, perfect anatomy, dof, hyper-realism, majestic, awesome, inspiring, Standing atop a frozen alpine landscape, Link from the Zelda universe finds himself amidst a fierce battle against a massive abyssal digital fog. Armed with a sci-fi rifle emitting\"\n",
    "negative_prompt = \"photo, photorealistic, realism, ugly, messy background\"\n",
    "interpolation_size = 7\n",
    "num_inference_steps = 50\n",
    "warmup_ratio = 0.5\n",
    "sequence_coefficients = generate_beta_tensor(interpolation_size, alpha=55, beta=42).to(dtype=torch.float16, device=\"cuda\")\n",
    "sequence_coefficients = sequence_coefficients[1:-1]\n",
    "print(sequence_coefficients)\n",
    "results = []\n",
    "for i in range(interpolation_size - 2):\n",
    "    images = xl_pipe.interpolate_single(sequence_coefficients[i], prompt_start=prompt_a, prompt_end=prompt_b, negative_prompt=negative_prompt, latent_start=latent_start, latent_end=latent_end, early='fused_outer', num_inference_steps=num_inference_steps, output_type=\"np\")\n",
    "    if i == 0:\n",
    "        results.append(images.images[0])\n",
    "    results.append(images.images[1])\n",
    "results.append(images.images[2])\n",
    "show_images_horizontally(results, interact=True)"
   ]
  },
  {
   "cell_type": "code",
   "execution_count": null,
   "metadata": {},
   "outputs": [],
   "source": [
    "prompt_a = \"cat in renaissance\"\n",
    "prompt_b = \"photo of beautiful age 18 bride in bedroom, red hair, freckles sexy, beautiful, close up, young, dslr, 8k, 4k, ultrarealistic, realistic, natural skin, textured skin\"\n",
    "negative_prompt = \"photo, photorealistic, realism, ugly, messy background\"\n",
    "interpolation_size = 7\n",
    "num_inference_steps = 50\n",
    "warmup_ratio = 0.2\n",
    "sequence_coefficients = generate_beta_tensor(interpolation_size, alpha=180, beta=212).to(dtype=torch.float16, device=\"cuda\")\n",
    "sequence_coefficients = sequence_coefficients[1:-1]\n",
    "print(sequence_coefficients)\n",
    "results = []\n",
    "for i in range(interpolation_size - 2):\n",
    "    images = xl_pipe.interpolate_single(sequence_coefficients[i], prompt_start=prompt_a, prompt_end=prompt_b, negative_prompt=negative_prompt, latent_start=latent_start, latent_end=latent_end, early='fused_outer', num_inference_steps=num_inference_steps, output_type=\"np\")\n",
    "    if i == 0:\n",
    "        results.append(images.images[0])\n",
    "    results.append(images.images[1])\n",
    "results.append(images.images[2])\n",
    "show_images_horizontally(results, interact=True)"
   ]
  }
 ],
 "metadata": {
  "kernelspec": {
   "display_name": "intp",
   "language": "python",
   "name": "python3"
  },
  "language_info": {
   "codemirror_mode": {
    "name": "ipython",
    "version": 3
   },
   "file_extension": ".py",
   "mimetype": "text/x-python",
   "name": "python",
   "nbconvert_exporter": "python",
   "pygments_lexer": "ipython3",
   "version": "3.11.7"
  }
 },
 "nbformat": 4,
 "nbformat_minor": 2
}
